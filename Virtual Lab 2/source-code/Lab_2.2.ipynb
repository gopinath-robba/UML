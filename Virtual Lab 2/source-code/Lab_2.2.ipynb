{
 "cells": [
  {
   "cell_type": "raw",
   "id": "17546ebb",
   "metadata": {
    "vscode": {
     "languageId": "raw"
    }
   },
   "source": [
    "---\n",
    "keywords: [agent, agents]\n",
    "---"
   ]
  },
  {
   "cell_type": "markdown",
   "id": "1df78a71",
   "metadata": {},
   "source": [
    "# Build an Agent\n",
    "\n",
    "By themselves, language models can't take actions - they just output text.\n",
    "A big use case for LangChain is creating **agents**.\n",
    "[Agents](/docs/concepts/agents) are systems that use [LLMs](/docs/concepts/chat_models) as reasoning engines to determine which actions to take and the inputs necessary to perform the action.\n",
    "After executing actions, the results can be fed back into the LLM to determine whether more actions are needed, or whether it is okay to finish. This is often achieved via [tool-calling](/docs/concepts/tool_calling).\n",
    "\n",
    "In this tutorial we will build an agent that can interact with a search engine. You will be able to ask this agent questions, watch it call the search tool, and have conversations with it.\n",
    "\n",
    "## End-to-end agent\n",
    "\n",
    "The code snippet below represents a fully functional agent that uses an LLM to decide which tools to use. It is equipped with a generic search tool. It has conversational memory - meaning that it can be used as a multi-turn chatbot.\n",
    "\n",
    "In the rest of the guide, we will walk through the individual components and what each part does - but if you want to just grab some code and get started, feel free to use this!"
   ]
  },
  {
   "cell_type": "code",
   "execution_count": null,
   "id": "75fbadd3",
   "metadata": {},
   "outputs": [],
   "source": [
    "import os\n",
    "import ssl\n",
    "import certifi\n",
    "\n",
    "LANGSMITH_TRACING=\"true\"\n",
    "LANGSMITH_ENDPOINT=\"https://api.smith.langchain.com\"\n",
    "LANGSMITH_PROJECT=\"pr-puzzled-rim-16\"\n",
    "\n",
    "\n",
    "ssl.create_default_context(cafile=certifi.where())\n",
    "\n",
    "\n"
   ]
  },
  {
   "cell_type": "code",
   "execution_count": 9,
   "id": "a79bb782",
   "metadata": {},
   "outputs": [
    {
     "name": "stdout",
     "output_type": "stream",
     "text": [
      "{'agent': {'messages': [AIMessage(content=\"Hi Gopinath! It's nice to meet you. How can I assist you today?\", additional_kwargs={'refusal': None}, response_metadata={'token_usage': {'completion_tokens': 20, 'prompt_tokens': 90, 'total_tokens': 110, 'completion_tokens_details': {'accepted_prediction_tokens': 0, 'audio_tokens': 0, 'reasoning_tokens': 0, 'rejected_prediction_tokens': 0}, 'prompt_tokens_details': {'audio_tokens': 0, 'cached_tokens': 0}}, 'model_name': 'gpt-4o-mini-2024-07-18', 'system_fingerprint': 'fp_72ed7ab54c', 'finish_reason': 'stop', 'logprobs': None}, id='run-55ac595a-29cb-4258-9954-a506874fce99-0', usage_metadata={'input_tokens': 90, 'output_tokens': 20, 'total_tokens': 110, 'input_token_details': {'audio': 0, 'cache_read': 0}, 'output_token_details': {'audio': 0, 'reasoning': 0}})]}}\n",
      "----\n",
      "{'agent': {'messages': [AIMessage(content='', additional_kwargs={'tool_calls': [{'id': 'call_up0tcpPJUKViCIzcngJmw9wz', 'function': {'arguments': '{\"query\":\"current weather in Chicago\"}', 'name': 'tavily_search_results_json'}, 'type': 'function'}], 'refusal': None}, response_metadata={'token_usage': {'completion_tokens': 22, 'prompt_tokens': 124, 'total_tokens': 146, 'completion_tokens_details': {'accepted_prediction_tokens': 0, 'audio_tokens': 0, 'reasoning_tokens': 0, 'rejected_prediction_tokens': 0}, 'prompt_tokens_details': {'audio_tokens': 0, 'cached_tokens': 0}}, 'model_name': 'gpt-4o-mini-2024-07-18', 'system_fingerprint': 'fp_bd83329f63', 'finish_reason': 'tool_calls', 'logprobs': None}, id='run-7d40d708-f1d2-407b-b4bb-12c5f6f51649-0', tool_calls=[{'name': 'tavily_search_results_json', 'args': {'query': 'current weather in Chicago'}, 'id': 'call_up0tcpPJUKViCIzcngJmw9wz', 'type': 'tool_call'}], usage_metadata={'input_tokens': 124, 'output_tokens': 22, 'total_tokens': 146, 'input_token_details': {'audio': 0, 'cache_read': 0}, 'output_token_details': {'audio': 0, 'reasoning': 0}})]}}\n",
      "----\n",
      "{'tools': {'messages': [ToolMessage(content='[{\"url\": \"https://www.weatherapi.com/\", \"content\": \"{\\'location\\': {\\'name\\': \\'Chicago\\', \\'region\\': \\'Illinois\\', \\'country\\': \\'United States of America\\', \\'lat\\': 41.85, \\'lon\\': -87.65, \\'tz_id\\': \\'America/Chicago\\', \\'localtime_epoch\\': 1739400636, \\'localtime\\': \\'2025-02-12 16:50\\'}, \\'current\\': {\\'last_updated_epoch\\': 1739400300, \\'last_updated\\': \\'2025-02-12 16:45\\', \\'temp_c\\': -2.8, \\'temp_f\\': 27.0, \\'is_day\\': 1, \\'condition\\': {\\'text\\': \\'Patchy light snow\\', \\'icon\\': \\'//cdn.weatherapi.com/weather/64x64/day/323.png\\', \\'code\\': 1210}, \\'wind_mph\\': 13.4, \\'wind_kph\\': 21.6, \\'wind_degree\\': 82, \\'wind_dir\\': \\'E\\', \\'pressure_mb\\': 1011.0, \\'pressure_in\\': 29.84, \\'precip_mm\\': 3.23, \\'precip_in\\': 0.13, \\'humidity\\': 81, \\'cloud\\': 100, \\'feelslike_c\\': -9.0, \\'feelslike_f\\': 15.7, \\'windchill_c\\': -9.2, \\'windchill_f\\': 15.4, \\'heatindex_c\\': -2.0, \\'heatindex_f\\': 28.4, \\'dewpoint_c\\': -3.0, \\'dewpoint_f\\': 26.5, \\'vis_km\\': 2.8, \\'vis_miles\\': 1.0, \\'uv\\': 0.1, \\'gust_mph\\': 17.7, \\'gust_kph\\': 28.5}}\"}, {\"url\": \"https://weathershogun.com/weather/usa/il/chicago/1328/february/2025-02-12\", \"content\": \"Wednesday, February 12, 2025. Chicago, IL - Weather Forecast Chicago, IL Home Contact Browse States Privacy Policy Terms and Conditions °F)°C) Today Tomorrow Hourly 7 days 30 days February Chicago, Illinois Weather: Winter Weather Advisory (Potentially hazardous winter weather, such as snow or ice, affecting travel) Wednesday, February 12, 2025 Day 30° Night 14° Precipitation 94 % Wind 19 mph UV Index (0 - 11+) 1 Thursday Hourly Today Tomorrow 7 days 30 days Weather Forecast History Last Year\\'s Weather on This Day (February 12, 2024) Day 46° Night 25° Please note that while we strive for accuracy, the information provided may not always be correct. Use at your own risk. © Copyright by WeatherShogun.com\"}]', name='tavily_search_results_json', id='98596e15-c138-4544-a6a9-5cec2009b32e', tool_call_id='call_up0tcpPJUKViCIzcngJmw9wz', artifact={'query': 'current weather in Chicago', 'follow_up_questions': None, 'answer': None, 'images': [], 'results': [{'title': 'Weather in Chicago', 'url': 'https://www.weatherapi.com/', 'content': \"{'location': {'name': 'Chicago', 'region': 'Illinois', 'country': 'United States of America', 'lat': 41.85, 'lon': -87.65, 'tz_id': 'America/Chicago', 'localtime_epoch': 1739400636, 'localtime': '2025-02-12 16:50'}, 'current': {'last_updated_epoch': 1739400300, 'last_updated': '2025-02-12 16:45', 'temp_c': -2.8, 'temp_f': 27.0, 'is_day': 1, 'condition': {'text': 'Patchy light snow', 'icon': '//cdn.weatherapi.com/weather/64x64/day/323.png', 'code': 1210}, 'wind_mph': 13.4, 'wind_kph': 21.6, 'wind_degree': 82, 'wind_dir': 'E', 'pressure_mb': 1011.0, 'pressure_in': 29.84, 'precip_mm': 3.23, 'precip_in': 0.13, 'humidity': 81, 'cloud': 100, 'feelslike_c': -9.0, 'feelslike_f': 15.7, 'windchill_c': -9.2, 'windchill_f': 15.4, 'heatindex_c': -2.0, 'heatindex_f': 28.4, 'dewpoint_c': -3.0, 'dewpoint_f': 26.5, 'vis_km': 2.8, 'vis_miles': 1.0, 'uv': 0.1, 'gust_mph': 17.7, 'gust_kph': 28.5}}\", 'score': 0.9778617, 'raw_content': None}, {'url': 'https://weathershogun.com/weather/usa/il/chicago/1328/february/2025-02-12', 'title': 'Wednesday, February 12, 2025. Chicago, IL - Weather Forecast', 'content': \"Wednesday, February 12, 2025. Chicago, IL - Weather Forecast Chicago, IL Home Contact Browse States Privacy Policy Terms and Conditions °F)°C) Today Tomorrow Hourly 7 days 30 days February Chicago, Illinois Weather: Winter Weather Advisory (Potentially hazardous winter weather, such as snow or ice, affecting travel) Wednesday, February 12, 2025 Day 30° Night 14° Precipitation 94 % Wind 19 mph UV Index (0 - 11+) 1 Thursday Hourly Today Tomorrow 7 days 30 days Weather Forecast History Last Year's Weather on This Day (February 12, 2024) Day 46° Night 25° Please note that while we strive for accuracy, the information provided may not always be correct. Use at your own risk. © Copyright by WeatherShogun.com\", 'score': 0.9255605, 'raw_content': None}], 'response_time': 2.58})]}}\n",
      "----\n",
      "{'agent': {'messages': [AIMessage(content='The current weather in Chicago is as follows:\\n\\n- **Temperature:** -2.8°C (27°F)\\n- **Condition:** Patchy light snow\\n- **Wind:** 13.4 mph (21.6 km/h) from the east\\n- **Humidity:** 81%\\n- **Feels Like:** -9.0°C (15.7°F)\\n- **Visibility:** 2.8 km (1 mile)\\n- **Pressure:** 1011 mb\\n\\nAdditionally, there is a Winter Weather Advisory in effect due to potentially hazardous winter weather, which may affect travel.\\n\\nStay warm and be careful out there! If you need more information, feel free to ask.', additional_kwargs={'refusal': None}, response_metadata={'token_usage': {'completion_tokens': 139, 'prompt_tokens': 772, 'total_tokens': 911, 'completion_tokens_details': {'accepted_prediction_tokens': 0, 'audio_tokens': 0, 'reasoning_tokens': 0, 'rejected_prediction_tokens': 0}, 'prompt_tokens_details': {'audio_tokens': 0, 'cached_tokens': 0}}, 'model_name': 'gpt-4o-mini-2024-07-18', 'system_fingerprint': 'fp_bd83329f63', 'finish_reason': 'stop', 'logprobs': None}, id='run-a6f5b122-9ac2-49e1-a028-e3ef412b5abc-0', usage_metadata={'input_tokens': 772, 'output_tokens': 139, 'total_tokens': 911, 'input_token_details': {'audio': 0, 'cache_read': 0}, 'output_token_details': {'audio': 0, 'reasoning': 0}})]}}\n",
      "----\n"
     ]
    }
   ],
   "source": [
    "# Import relevant functionality\n",
    "#from langchain_anthropic import ChatAnthropic\n",
    "from langchain_openai import ChatOpenAI\n",
    "\n",
    "from langchain_community.tools.tavily_search import TavilySearchResults\n",
    "from langchain_core.messages import HumanMessage\n",
    "from langgraph.checkpoint.memory import MemorySaver\n",
    "from langgraph.prebuilt import create_react_agent\n",
    "\n",
    "# Create the agent\n",
    "memory = MemorySaver()\n",
    "\n",
    "#model = ChatAnthropic(model_name=\"claude-3-sonnet-20240229\")\n",
    "model = ChatOpenAI(model=\"gpt-4o-mini\")\n",
    "\n",
    "\n",
    "search = TavilySearchResults(max_results=2)\n",
    "tools = [search]\n",
    "agent_executor = create_react_agent(model, tools, checkpointer=memory)\n",
    "\n",
    "# Use the agent\n",
    "config = {\"configurable\": {\"thread_id\": \"abc123\"}}\n",
    "for chunk in agent_executor.stream(\n",
    "    {\"messages\": [HumanMessage(content=\"hi im Gopinath! and i live in Chicago\")]}, config\n",
    "):\n",
    "    print(chunk)\n",
    "    print(\"----\")\n",
    "\n",
    "for chunk in agent_executor.stream(\n",
    "    {\"messages\": [HumanMessage(content=\"whats the weather where I live?\")]}, config\n",
    "):\n",
    "    print(chunk)\n",
    "    print(\"----\")"
   ]
  },
  {
   "cell_type": "markdown",
   "id": "f4c03f40-1328-412d-8a48-1db0cd481b77",
   "metadata": {},
   "source": [
    "## Setup\n",
    "\n",
    "### Jupyter Notebook\n",
    "\n",
    "This guide (and most of the other guides in the documentation) uses [Jupyter notebooks](https://jupyter.org/) and assumes the reader is as well. Jupyter notebooks are perfect interactive environments for learning how to work with LLM systems because oftentimes things can go wrong (unexpected output, API down, etc), and observing these cases is a great way to better understand building with LLMs.\n",
    "\n",
    "This and other tutorials are perhaps most conveniently run in a Jupyter notebook. See [here](https://jupyter.org/install) for instructions on how to install.\n",
    "\n",
    "### Installation\n",
    "\n",
    "To install LangChain run:"
   ]
  },
  {
   "cell_type": "code",
   "execution_count": 7,
   "id": "60bb3eb1",
   "metadata": {},
   "outputs": [
    {
     "name": "stdout",
     "output_type": "stream",
     "text": [
      "Requirement already satisfied: langchain-community in /Library/Frameworks/Python.framework/Versions/3.13/lib/python3.13/site-packages (0.3.17)\n",
      "Requirement already satisfied: langgraph in /Library/Frameworks/Python.framework/Versions/3.13/lib/python3.13/site-packages (0.2.71)\n",
      "Requirement already satisfied: langchain-openai in /Library/Frameworks/Python.framework/Versions/3.13/lib/python3.13/site-packages (0.3.5)\n",
      "Collecting tavily-python\n",
      "  Downloading tavily_python-0.5.1-py3-none-any.whl.metadata (91 kB)\n",
      "Collecting langgraph-checkpoint-sqlite\n",
      "  Downloading langgraph_checkpoint_sqlite-2.0.3-py3-none-any.whl.metadata (3.0 kB)\n",
      "Requirement already satisfied: langchain-core<1.0.0,>=0.3.34 in /Library/Frameworks/Python.framework/Versions/3.13/lib/python3.13/site-packages (from langchain-community) (0.3.34)\n",
      "Requirement already satisfied: langchain<1.0.0,>=0.3.18 in /Library/Frameworks/Python.framework/Versions/3.13/lib/python3.13/site-packages (from langchain-community) (0.3.18)\n",
      "Requirement already satisfied: SQLAlchemy<3,>=1.4 in /Library/Frameworks/Python.framework/Versions/3.13/lib/python3.13/site-packages (from langchain-community) (2.0.38)\n",
      "Requirement already satisfied: requests<3,>=2 in /Library/Frameworks/Python.framework/Versions/3.13/lib/python3.13/site-packages (from langchain-community) (2.32.3)\n",
      "Requirement already satisfied: PyYAML>=5.3 in /Library/Frameworks/Python.framework/Versions/3.13/lib/python3.13/site-packages (from langchain-community) (6.0.2)\n",
      "Requirement already satisfied: aiohttp<4.0.0,>=3.8.3 in /Library/Frameworks/Python.framework/Versions/3.13/lib/python3.13/site-packages (from langchain-community) (3.11.12)\n",
      "Requirement already satisfied: tenacity!=8.4.0,<10,>=8.1.0 in /Library/Frameworks/Python.framework/Versions/3.13/lib/python3.13/site-packages (from langchain-community) (9.0.0)\n",
      "Requirement already satisfied: dataclasses-json<0.7,>=0.5.7 in /Library/Frameworks/Python.framework/Versions/3.13/lib/python3.13/site-packages (from langchain-community) (0.6.7)\n",
      "Requirement already satisfied: pydantic-settings<3.0.0,>=2.4.0 in /Library/Frameworks/Python.framework/Versions/3.13/lib/python3.13/site-packages (from langchain-community) (2.7.1)\n",
      "Requirement already satisfied: langsmith<0.4,>=0.1.125 in /Library/Frameworks/Python.framework/Versions/3.13/lib/python3.13/site-packages (from langchain-community) (0.3.8)\n",
      "Requirement already satisfied: httpx-sse<1.0.0,>=0.4.0 in /Library/Frameworks/Python.framework/Versions/3.13/lib/python3.13/site-packages (from langchain-community) (0.4.0)\n",
      "Requirement already satisfied: numpy<3,>=1.26.2 in /Library/Frameworks/Python.framework/Versions/3.13/lib/python3.13/site-packages (from langchain-community) (2.2.2)\n",
      "Requirement already satisfied: langgraph-checkpoint<3.0.0,>=2.0.10 in /Library/Frameworks/Python.framework/Versions/3.13/lib/python3.13/site-packages (from langgraph) (2.0.12)\n",
      "Requirement already satisfied: langgraph-sdk<0.2.0,>=0.1.42 in /Library/Frameworks/Python.framework/Versions/3.13/lib/python3.13/site-packages (from langgraph) (0.1.51)\n",
      "Requirement already satisfied: openai<2.0.0,>=1.58.1 in /Library/Frameworks/Python.framework/Versions/3.13/lib/python3.13/site-packages (from langchain-openai) (1.61.1)\n",
      "Requirement already satisfied: tiktoken<1,>=0.7 in /Library/Frameworks/Python.framework/Versions/3.13/lib/python3.13/site-packages (from langchain-openai) (0.8.0)\n",
      "Requirement already satisfied: httpx in /Library/Frameworks/Python.framework/Versions/3.13/lib/python3.13/site-packages (from tavily-python) (0.28.1)\n",
      "Collecting aiosqlite<0.21.0,>=0.20.0 (from langgraph-checkpoint-sqlite)\n",
      "  Downloading aiosqlite-0.20.0-py3-none-any.whl.metadata (4.3 kB)\n",
      "Requirement already satisfied: aiohappyeyeballs>=2.3.0 in /Library/Frameworks/Python.framework/Versions/3.13/lib/python3.13/site-packages (from aiohttp<4.0.0,>=3.8.3->langchain-community) (2.4.6)\n",
      "Requirement already satisfied: aiosignal>=1.1.2 in /Library/Frameworks/Python.framework/Versions/3.13/lib/python3.13/site-packages (from aiohttp<4.0.0,>=3.8.3->langchain-community) (1.3.2)\n",
      "Requirement already satisfied: attrs>=17.3.0 in /Library/Frameworks/Python.framework/Versions/3.13/lib/python3.13/site-packages (from aiohttp<4.0.0,>=3.8.3->langchain-community) (25.1.0)\n",
      "Requirement already satisfied: frozenlist>=1.1.1 in /Library/Frameworks/Python.framework/Versions/3.13/lib/python3.13/site-packages (from aiohttp<4.0.0,>=3.8.3->langchain-community) (1.5.0)\n",
      "Requirement already satisfied: multidict<7.0,>=4.5 in /Library/Frameworks/Python.framework/Versions/3.13/lib/python3.13/site-packages (from aiohttp<4.0.0,>=3.8.3->langchain-community) (6.1.0)\n",
      "Requirement already satisfied: propcache>=0.2.0 in /Library/Frameworks/Python.framework/Versions/3.13/lib/python3.13/site-packages (from aiohttp<4.0.0,>=3.8.3->langchain-community) (0.2.1)\n",
      "Requirement already satisfied: yarl<2.0,>=1.17.0 in /Library/Frameworks/Python.framework/Versions/3.13/lib/python3.13/site-packages (from aiohttp<4.0.0,>=3.8.3->langchain-community) (1.18.3)\n",
      "Requirement already satisfied: typing_extensions>=4.0 in /Library/Frameworks/Python.framework/Versions/3.13/lib/python3.13/site-packages (from aiosqlite<0.21.0,>=0.20.0->langgraph-checkpoint-sqlite) (4.12.2)\n",
      "Requirement already satisfied: marshmallow<4.0.0,>=3.18.0 in /Library/Frameworks/Python.framework/Versions/3.13/lib/python3.13/site-packages (from dataclasses-json<0.7,>=0.5.7->langchain-community) (3.26.1)\n",
      "Requirement already satisfied: typing-inspect<1,>=0.4.0 in /Library/Frameworks/Python.framework/Versions/3.13/lib/python3.13/site-packages (from dataclasses-json<0.7,>=0.5.7->langchain-community) (0.9.0)\n",
      "Requirement already satisfied: langchain-text-splitters<1.0.0,>=0.3.6 in /Library/Frameworks/Python.framework/Versions/3.13/lib/python3.13/site-packages (from langchain<1.0.0,>=0.3.18->langchain-community) (0.3.6)\n",
      "Requirement already satisfied: pydantic<3.0.0,>=2.7.4 in /Library/Frameworks/Python.framework/Versions/3.13/lib/python3.13/site-packages (from langchain<1.0.0,>=0.3.18->langchain-community) (2.10.6)\n",
      "Requirement already satisfied: jsonpatch<2.0,>=1.33 in /Library/Frameworks/Python.framework/Versions/3.13/lib/python3.13/site-packages (from langchain-core<1.0.0,>=0.3.34->langchain-community) (1.33)\n",
      "Requirement already satisfied: packaging<25,>=23.2 in /Users/gopinath/Library/Python/3.13/lib/python/site-packages (from langchain-core<1.0.0,>=0.3.34->langchain-community) (24.2)\n",
      "Requirement already satisfied: msgpack<2.0.0,>=1.1.0 in /Library/Frameworks/Python.framework/Versions/3.13/lib/python3.13/site-packages (from langgraph-checkpoint<3.0.0,>=2.0.10->langgraph) (1.1.0)\n",
      "Requirement already satisfied: orjson>=3.10.1 in /Library/Frameworks/Python.framework/Versions/3.13/lib/python3.13/site-packages (from langgraph-sdk<0.2.0,>=0.1.42->langgraph) (3.10.15)\n",
      "Requirement already satisfied: anyio in /Library/Frameworks/Python.framework/Versions/3.13/lib/python3.13/site-packages (from httpx->tavily-python) (4.8.0)\n",
      "Requirement already satisfied: certifi in /Library/Frameworks/Python.framework/Versions/3.13/lib/python3.13/site-packages (from httpx->tavily-python) (2025.1.31)\n",
      "Requirement already satisfied: httpcore==1.* in /Library/Frameworks/Python.framework/Versions/3.13/lib/python3.13/site-packages (from httpx->tavily-python) (1.0.7)\n",
      "Requirement already satisfied: idna in /Library/Frameworks/Python.framework/Versions/3.13/lib/python3.13/site-packages (from httpx->tavily-python) (3.10)\n",
      "Requirement already satisfied: h11<0.15,>=0.13 in /Library/Frameworks/Python.framework/Versions/3.13/lib/python3.13/site-packages (from httpcore==1.*->httpx->tavily-python) (0.14.0)\n",
      "Requirement already satisfied: requests-toolbelt<2.0.0,>=1.0.0 in /Library/Frameworks/Python.framework/Versions/3.13/lib/python3.13/site-packages (from langsmith<0.4,>=0.1.125->langchain-community) (1.0.0)\n",
      "Requirement already satisfied: zstandard<0.24.0,>=0.23.0 in /Library/Frameworks/Python.framework/Versions/3.13/lib/python3.13/site-packages (from langsmith<0.4,>=0.1.125->langchain-community) (0.23.0)\n",
      "Requirement already satisfied: distro<2,>=1.7.0 in /Library/Frameworks/Python.framework/Versions/3.13/lib/python3.13/site-packages (from openai<2.0.0,>=1.58.1->langchain-openai) (1.9.0)\n",
      "Requirement already satisfied: jiter<1,>=0.4.0 in /Library/Frameworks/Python.framework/Versions/3.13/lib/python3.13/site-packages (from openai<2.0.0,>=1.58.1->langchain-openai) (0.8.2)\n",
      "Requirement already satisfied: sniffio in /Library/Frameworks/Python.framework/Versions/3.13/lib/python3.13/site-packages (from openai<2.0.0,>=1.58.1->langchain-openai) (1.3.1)\n",
      "Requirement already satisfied: tqdm>4 in /Library/Frameworks/Python.framework/Versions/3.13/lib/python3.13/site-packages (from openai<2.0.0,>=1.58.1->langchain-openai) (4.67.1)\n",
      "Requirement already satisfied: python-dotenv>=0.21.0 in /Library/Frameworks/Python.framework/Versions/3.13/lib/python3.13/site-packages (from pydantic-settings<3.0.0,>=2.4.0->langchain-community) (1.0.1)\n",
      "Requirement already satisfied: charset-normalizer<4,>=2 in /Library/Frameworks/Python.framework/Versions/3.13/lib/python3.13/site-packages (from requests<3,>=2->langchain-community) (3.4.1)\n",
      "Requirement already satisfied: urllib3<3,>=1.21.1 in /Library/Frameworks/Python.framework/Versions/3.13/lib/python3.13/site-packages (from requests<3,>=2->langchain-community) (2.3.0)\n",
      "Requirement already satisfied: regex>=2022.1.18 in /Library/Frameworks/Python.framework/Versions/3.13/lib/python3.13/site-packages (from tiktoken<1,>=0.7->langchain-openai) (2024.11.6)\n",
      "Requirement already satisfied: jsonpointer>=1.9 in /Library/Frameworks/Python.framework/Versions/3.13/lib/python3.13/site-packages (from jsonpatch<2.0,>=1.33->langchain-core<1.0.0,>=0.3.34->langchain-community) (3.0.0)\n",
      "Requirement already satisfied: annotated-types>=0.6.0 in /Library/Frameworks/Python.framework/Versions/3.13/lib/python3.13/site-packages (from pydantic<3.0.0,>=2.7.4->langchain<1.0.0,>=0.3.18->langchain-community) (0.7.0)\n",
      "Requirement already satisfied: pydantic-core==2.27.2 in /Library/Frameworks/Python.framework/Versions/3.13/lib/python3.13/site-packages (from pydantic<3.0.0,>=2.7.4->langchain<1.0.0,>=0.3.18->langchain-community) (2.27.2)\n",
      "Requirement already satisfied: mypy-extensions>=0.3.0 in /Library/Frameworks/Python.framework/Versions/3.13/lib/python3.13/site-packages (from typing-inspect<1,>=0.4.0->dataclasses-json<0.7,>=0.5.7->langchain-community) (1.0.0)\n",
      "Downloading tavily_python-0.5.1-py3-none-any.whl (43 kB)\n",
      "Downloading langgraph_checkpoint_sqlite-2.0.3-py3-none-any.whl (12 kB)\n",
      "Downloading aiosqlite-0.20.0-py3-none-any.whl (15 kB)\n",
      "Installing collected packages: aiosqlite, tavily-python, langgraph-checkpoint-sqlite\n",
      "Successfully installed aiosqlite-0.20.0 langgraph-checkpoint-sqlite-2.0.3 tavily-python-0.5.1\n",
      "Note: you may need to restart the kernel to use updated packages.\n"
     ]
    }
   ],
   "source": [
    "%pip install -U langchain-community langgraph langchain-openai tavily-python langgraph-checkpoint-sqlite"
   ]
  },
  {
   "cell_type": "markdown",
   "id": "2ee337ae",
   "metadata": {},
   "source": [
    "For more details, see our [Installation guide](/docs/how_to/installation).\n",
    "\n",
    "### LangSmith\n",
    "\n",
    "Many of the applications you build with LangChain will contain multiple steps with multiple invocations of LLM calls.\n",
    "As these applications get more and more complex, it becomes crucial to be able to inspect what exactly is going on inside your chain or agent.\n",
    "The best way to do this is with [LangSmith](https://smith.langchain.com).\n",
    "\n",
    "After you sign up at the link above, make sure to set your environment variables to start logging traces:\n",
    "\n",
    "```shell\n",
    "export LANGCHAIN_TRACING_V2=\"true\"\n",
    "export LANGCHAIN_API_KEY=\"...\"\n",
    "```\n",
    "\n",
    "Or, if in a notebook, you can set them with:\n",
    "\n",
    "```python\n",
    "import getpass\n",
    "import os\n",
    "\n",
    "os.environ[\"LANGCHAIN_TRACING_V2\"] = \"true\"\n",
    "os.environ[\"LANGCHAIN_API_KEY\"] = getpass.getpass()\n",
    "```\n",
    "\n",
    "### Tavily\n",
    "\n",
    "We will be using [Tavily](/docs/integrations/tools/tavily_search) (a search engine) as a tool.\n",
    "In order to use it, you will need to get and set an API key:\n",
    "\n",
    "```bash\n",
    "export TAVILY_API_KEY=\"...\"\n",
    "```\n",
    "\n",
    "Or, if in a notebook, you can set it with:\n",
    "\n",
    "```python\n",
    "import getpass\n",
    "import os\n",
    "\n",
    "os.environ[\"TAVILY_API_KEY\"] = getpass.getpass()\n",
    "```"
   ]
  },
  {
   "cell_type": "markdown",
   "id": "c335d1bf",
   "metadata": {},
   "source": [
    "## Define tools\n",
    "\n",
    "We first need to create the tools we want to use. Our main tool of choice will be [Tavily](/docs/integrations/tools/tavily_search) - a search engine. We have a built-in tool in LangChain to easily use Tavily search engine as tool.\n"
   ]
  },
  {
   "cell_type": "code",
   "execution_count": 10,
   "id": "482ce13d",
   "metadata": {},
   "outputs": [
    {
     "name": "stdout",
     "output_type": "stream",
     "text": [
      "[{'url': 'https://www.weatherapi.com/', 'content': \"{'location': {'name': 'Chicago', 'region': 'Illinois', 'country': 'United States of America', 'lat': 41.85, 'lon': -87.65, 'tz_id': 'America/Chicago', 'localtime_epoch': 1739403077, 'localtime': '2025-02-12 17:31'}, 'current': {'last_updated_epoch': 1739403000, 'last_updated': '2025-02-12 17:30', 'temp_c': -2.8, 'temp_f': 27.0, 'is_day': 0, 'condition': {'text': 'Patchy light snow', 'icon': '//cdn.weatherapi.com/weather/64x64/night/323.png', 'code': 1210}, 'wind_mph': 11.6, 'wind_kph': 18.7, 'wind_degree': 85, 'wind_dir': 'E', 'pressure_mb': 1010.0, 'pressure_in': 29.83, 'precip_mm': 0.0, 'precip_in': 0.0, 'humidity': 81, 'cloud': 100, 'feelslike_c': -8.6, 'feelslike_f': 16.6, 'windchill_c': -9.0, 'windchill_f': 15.8, 'heatindex_c': -1.9, 'heatindex_f': 28.7, 'dewpoint_c': -2.7, 'dewpoint_f': 27.1, 'vis_km': 4.0, 'vis_miles': 2.0, 'uv': 0.0, 'gust_mph': 15.7, 'gust_kph': 25.3}}\"}, {'url': 'https://world-weather.info/forecast/usa/chicago/february-2025/', 'content': \"Weather in Chicago in February 2025 (Illinois) - Detailed Weather Forecast for a Month Weather World United States Weather in Chicago Weather in Chicago in February 2025 Chicago Weather Forecast for February 2025, is based on previous years' statistical data. +36°+27° +32°+23° +32°+23° +30°+23° +30°+25° +34°+25° +36°+28° +32°+23° +32°+25° +30°+23° +32°+23° +32°+25° +30°+23° +34°+25° +32°+25° +32°+25° +32°+25° +34°+25° +36°+27° +41°+30° +39°+32° +39°+34° +37°+30° +36°+30° +36°+27° +37°+28° +39°+30° +37°+32° Extended weather forecast in Chicago HourlyWeek10-Day14-Day30-DayYear Weather in large and nearby cities Weather in Washington, D.C.+30° Springfield+25° Lombard+27° Mount Prospect+28° Orland Park+27° Rolling Meadows+28° Skokie+28° Tinley Park+27° Gary+27° Hammond+27° Lemont+27° Evanston+28° Elmhurst+28° Alsip+27° Arlington Heights+28° Bolingbrook+27° Irving Park+28° Sauk Village+27° world's temperature today day day Copyright © 2025 «World-Weather.info» All rights reserved. Temperature units\"}]\n"
     ]
    }
   ],
   "source": [
    "from langchain_community.tools.tavily_search import TavilySearchResults\n",
    "\n",
    "search = TavilySearchResults(max_results=2)\n",
    "search_results = search.invoke(\"what is the weather in Chicago\")\n",
    "print(search_results)\n",
    "# If we want, we can create other tools.\n",
    "# Once we have all the tools we want, we can put them in a list that we will reference later.\n",
    "tools = [search]"
   ]
  },
  {
   "cell_type": "markdown",
   "id": "e00068b0",
   "metadata": {},
   "source": [
    "## Using Language Models\n",
    "\n",
    "Next, let's learn how to use a language model by to call tools. LangChain supports many different language models that you can use interchangably - select the one you want to use below!\n",
    "\n",
    "import ChatModelTabs from \"@theme/ChatModelTabs\";\n",
    "\n",
    "<ChatModelTabs openaiParams={`model=\"gpt-4\"`} />\n"
   ]
  },
  {
   "cell_type": "code",
   "execution_count": 11,
   "id": "69185491",
   "metadata": {},
   "outputs": [],
   "source": [
    "# | output: false\n",
    "# | echo: false\n",
    "\n",
    "#from langchain_anthropic import ChatAnthropic\n",
    "#model = ChatAnthropic(model=\"claude-3-sonnet-20240229\")\n",
    "\n",
    "from langchain_openai import ChatOpenAI\n",
    "model = ChatOpenAI(model=\"gpt-4o-mini\")\n"
   ]
  },
  {
   "cell_type": "markdown",
   "id": "642ed8bf",
   "metadata": {},
   "source": [
    "You can call the language model by passing in a list of messages. By default, the response is a `content` string."
   ]
  },
  {
   "cell_type": "code",
   "execution_count": 12,
   "id": "c96c960b",
   "metadata": {},
   "outputs": [
    {
     "data": {
      "text/plain": [
       "'Hello! How can I assist you today?'"
      ]
     },
     "execution_count": 12,
     "metadata": {},
     "output_type": "execute_result"
    }
   ],
   "source": [
    "from langchain_core.messages import HumanMessage\n",
    "\n",
    "response = model.invoke([HumanMessage(content=\"hi!\")])\n",
    "response.content"
   ]
  },
  {
   "cell_type": "markdown",
   "id": "47bf8210",
   "metadata": {},
   "source": [
    "We can now see what it is like to enable this model to do tool calling. In order to enable that we use `.bind_tools` to give the language model knowledge of these tools"
   ]
  },
  {
   "cell_type": "code",
   "execution_count": 13,
   "id": "ba692a74",
   "metadata": {},
   "outputs": [],
   "source": [
    "model_with_tools = model.bind_tools(tools)"
   ]
  },
  {
   "cell_type": "markdown",
   "id": "fd920b69",
   "metadata": {},
   "source": [
    "We can now call the model. Let's first call it with a normal message, and see how it responds. We can look at both the `content` field as well as the `tool_calls` field."
   ]
  },
  {
   "cell_type": "code",
   "execution_count": 14,
   "id": "b6a7e925",
   "metadata": {},
   "outputs": [
    {
     "name": "stdout",
     "output_type": "stream",
     "text": [
      "ContentString: Hello! How can I assist you today?\n",
      "ToolCalls: []\n"
     ]
    }
   ],
   "source": [
    "response = model_with_tools.invoke([HumanMessage(content=\"Hi!\")])\n",
    "\n",
    "print(f\"ContentString: {response.content}\")\n",
    "print(f\"ToolCalls: {response.tool_calls}\")"
   ]
  },
  {
   "cell_type": "markdown",
   "id": "e8c81e76",
   "metadata": {},
   "source": [
    "Now, let's try calling it with some input that would expect a tool to be called."
   ]
  },
  {
   "cell_type": "code",
   "execution_count": 15,
   "id": "688b465d",
   "metadata": {},
   "outputs": [
    {
     "name": "stdout",
     "output_type": "stream",
     "text": [
      "ContentString: \n",
      "ToolCalls: [{'name': 'tavily_search_results_json', 'args': {'query': 'current weather in Chicago'}, 'id': 'call_aAjOdwePz1K6ZQseGEZqj1Lu', 'type': 'tool_call'}]\n"
     ]
    }
   ],
   "source": [
    "response = model_with_tools.invoke([HumanMessage(content=\"What's the weather in Chicago?\")])\n",
    "\n",
    "print(f\"ContentString: {response.content}\")\n",
    "print(f\"ToolCalls: {response.tool_calls}\")"
   ]
  },
  {
   "cell_type": "markdown",
   "id": "83c4bcd3",
   "metadata": {},
   "source": [
    "We can see that there's now no text content, but there is a tool call! It wants us to call the Tavily Search tool.\n",
    "\n",
    "This isn't calling that tool yet - it's just telling us to. In order to actually call it, we'll want to create our agent."
   ]
  },
  {
   "cell_type": "markdown",
   "id": "40ccec80",
   "metadata": {},
   "source": [
    "## Create the agent\n",
    "\n",
    "Now that we have defined the tools and the LLM, we can create the agent. We will be using [LangGraph](/docs/concepts/architecture/#langgraph) to construct the agent. \n",
    "Currently, we are using a high level interface to construct the agent, but the nice thing about LangGraph is that this high-level interface is backed by a low-level, highly controllable API in case you want to modify the agent logic.\n"
   ]
  },
  {
   "cell_type": "markdown",
   "id": "f8014c9d",
   "metadata": {},
   "source": [
    "Now, we can initialize the agent with the LLM and the tools.\n",
    "\n",
    "Note that we are passing in the `model`, not `model_with_tools`. That is because `create_react_agent` will call `.bind_tools` for us under the hood."
   ]
  },
  {
   "cell_type": "code",
   "execution_count": 16,
   "id": "89cf72b4-6046-4b47-8f27-5522d8cb8036",
   "metadata": {},
   "outputs": [],
   "source": [
    "from langgraph.prebuilt import create_react_agent\n",
    "\n",
    "agent_executor = create_react_agent(model, tools)"
   ]
  },
  {
   "cell_type": "markdown",
   "id": "e4df0e06",
   "metadata": {},
   "source": [
    "## Run the agent\n",
    "\n",
    "We can now run the agent with a few queries! Note that for now, these are all **stateless** queries (it won't remember previous interactions). Note that the agent will return the **final** state at the end of the interaction (which includes any inputs, we will see later on how to get only the outputs).\n",
    "\n",
    "First up, let's see how it responds when there's no need to call a tool:"
   ]
  },
  {
   "cell_type": "code",
   "execution_count": 17,
   "id": "114ba50d",
   "metadata": {},
   "outputs": [
    {
     "data": {
      "text/plain": [
       "[HumanMessage(content='hi!', additional_kwargs={}, response_metadata={}, id='13149213-424c-4198-b8d6-e8d6745b7345'),\n",
       " AIMessage(content='Hello! How can I assist you today?', additional_kwargs={'refusal': None}, response_metadata={'token_usage': {'completion_tokens': 11, 'prompt_tokens': 81, 'total_tokens': 92, 'completion_tokens_details': {'accepted_prediction_tokens': 0, 'audio_tokens': 0, 'reasoning_tokens': 0, 'rejected_prediction_tokens': 0}, 'prompt_tokens_details': {'audio_tokens': 0, 'cached_tokens': 0}}, 'model_name': 'gpt-4o-mini-2024-07-18', 'system_fingerprint': 'fp_72ed7ab54c', 'finish_reason': 'stop', 'logprobs': None}, id='run-f97c6251-bb63-4936-a7b0-b5cefbc861c1-0', usage_metadata={'input_tokens': 81, 'output_tokens': 11, 'total_tokens': 92, 'input_token_details': {'audio': 0, 'cache_read': 0}, 'output_token_details': {'audio': 0, 'reasoning': 0}})]"
      ]
     },
     "execution_count": 17,
     "metadata": {},
     "output_type": "execute_result"
    }
   ],
   "source": [
    "response = agent_executor.invoke({\"messages\": [HumanMessage(content=\"hi!\")]})\n",
    "\n",
    "response[\"messages\"]"
   ]
  },
  {
   "cell_type": "markdown",
   "id": "71493a42",
   "metadata": {},
   "source": [
    "In order to see exactly what is happening under the hood (and to make sure it's not calling a tool) we can take a look at the [LangSmith trace](https://smith.langchain.com/public/28311faa-e135-4d6a-ab6b-caecf6482aaa/r)\n",
    "\n",
    "Let's now try it out on an example where it should be invoking the tool"
   ]
  },
  {
   "cell_type": "code",
   "execution_count": 18,
   "id": "77c2f769",
   "metadata": {},
   "outputs": [
    {
     "data": {
      "text/plain": [
       "[HumanMessage(content='whats the weather in chicago?', additional_kwargs={}, response_metadata={}, id='d175307a-ce73-48e4-aa61-12e961da68b7'),\n",
       " AIMessage(content='', additional_kwargs={'tool_calls': [{'id': 'call_4HiiYAvU0Kok3gV2o8e7yfUS', 'function': {'arguments': '{\"query\":\"current weather in Chicago\"}', 'name': 'tavily_search_results_json'}, 'type': 'function'}], 'refusal': None}, response_metadata={'token_usage': {'completion_tokens': 22, 'prompt_tokens': 86, 'total_tokens': 108, 'completion_tokens_details': {'accepted_prediction_tokens': 0, 'audio_tokens': 0, 'reasoning_tokens': 0, 'rejected_prediction_tokens': 0}, 'prompt_tokens_details': {'audio_tokens': 0, 'cached_tokens': 0}}, 'model_name': 'gpt-4o-mini-2024-07-18', 'system_fingerprint': 'fp_72ed7ab54c', 'finish_reason': 'tool_calls', 'logprobs': None}, id='run-4a9c3a21-f088-460c-9b43-f77513b6a8a8-0', tool_calls=[{'name': 'tavily_search_results_json', 'args': {'query': 'current weather in Chicago'}, 'id': 'call_4HiiYAvU0Kok3gV2o8e7yfUS', 'type': 'tool_call'}], usage_metadata={'input_tokens': 86, 'output_tokens': 22, 'total_tokens': 108, 'input_token_details': {'audio': 0, 'cache_read': 0}, 'output_token_details': {'audio': 0, 'reasoning': 0}}),\n",
       " ToolMessage(content='[{\"url\": \"https://www.weatherapi.com/\", \"content\": \"{\\'location\\': {\\'name\\': \\'Chicago\\', \\'region\\': \\'Illinois\\', \\'country\\': \\'United States of America\\', \\'lat\\': 41.85, \\'lon\\': -87.65, \\'tz_id\\': \\'America/Chicago\\', \\'localtime_epoch\\': 1739400636, \\'localtime\\': \\'2025-02-12 16:50\\'}, \\'current\\': {\\'last_updated_epoch\\': 1739400300, \\'last_updated\\': \\'2025-02-12 16:45\\', \\'temp_c\\': -2.8, \\'temp_f\\': 27.0, \\'is_day\\': 1, \\'condition\\': {\\'text\\': \\'Patchy light snow\\', \\'icon\\': \\'//cdn.weatherapi.com/weather/64x64/day/323.png\\', \\'code\\': 1210}, \\'wind_mph\\': 13.4, \\'wind_kph\\': 21.6, \\'wind_degree\\': 82, \\'wind_dir\\': \\'E\\', \\'pressure_mb\\': 1011.0, \\'pressure_in\\': 29.84, \\'precip_mm\\': 3.23, \\'precip_in\\': 0.13, \\'humidity\\': 81, \\'cloud\\': 100, \\'feelslike_c\\': -9.0, \\'feelslike_f\\': 15.7, \\'windchill_c\\': -9.2, \\'windchill_f\\': 15.4, \\'heatindex_c\\': -2.0, \\'heatindex_f\\': 28.4, \\'dewpoint_c\\': -3.0, \\'dewpoint_f\\': 26.5, \\'vis_km\\': 2.8, \\'vis_miles\\': 1.0, \\'uv\\': 0.1, \\'gust_mph\\': 17.7, \\'gust_kph\\': 28.5}}\"}, {\"url\": \"https://weathershogun.com/weather/usa/il/chicago/1328/february/2025-02-12\", \"content\": \"Wednesday, February 12, 2025. Chicago, IL - Weather Forecast Chicago, IL Home Contact Browse States Privacy Policy Terms and Conditions °F)°C) Today Tomorrow Hourly 7 days 30 days February Chicago, Illinois Weather: Winter Weather Advisory (Potentially hazardous winter weather, such as snow or ice, affecting travel) Wednesday, February 12, 2025 Day 30° Night 14° Precipitation 94 % Wind 19 mph UV Index (0 - 11+) 1 Thursday Hourly Today Tomorrow 7 days 30 days Weather Forecast History Last Year\\'s Weather on This Day (February 12, 2024) Day 46° Night 25° Please note that while we strive for accuracy, the information provided may not always be correct. Use at your own risk. © Copyright by WeatherShogun.com\"}]', name='tavily_search_results_json', id='2fb8ac1d-0bd2-43a6-9730-18664d965066', tool_call_id='call_4HiiYAvU0Kok3gV2o8e7yfUS', artifact={'query': 'current weather in Chicago', 'follow_up_questions': None, 'answer': None, 'images': [], 'results': [{'title': 'Weather in Chicago', 'url': 'https://www.weatherapi.com/', 'content': \"{'location': {'name': 'Chicago', 'region': 'Illinois', 'country': 'United States of America', 'lat': 41.85, 'lon': -87.65, 'tz_id': 'America/Chicago', 'localtime_epoch': 1739400636, 'localtime': '2025-02-12 16:50'}, 'current': {'last_updated_epoch': 1739400300, 'last_updated': '2025-02-12 16:45', 'temp_c': -2.8, 'temp_f': 27.0, 'is_day': 1, 'condition': {'text': 'Patchy light snow', 'icon': '//cdn.weatherapi.com/weather/64x64/day/323.png', 'code': 1210}, 'wind_mph': 13.4, 'wind_kph': 21.6, 'wind_degree': 82, 'wind_dir': 'E', 'pressure_mb': 1011.0, 'pressure_in': 29.84, 'precip_mm': 3.23, 'precip_in': 0.13, 'humidity': 81, 'cloud': 100, 'feelslike_c': -9.0, 'feelslike_f': 15.7, 'windchill_c': -9.2, 'windchill_f': 15.4, 'heatindex_c': -2.0, 'heatindex_f': 28.4, 'dewpoint_c': -3.0, 'dewpoint_f': 26.5, 'vis_km': 2.8, 'vis_miles': 1.0, 'uv': 0.1, 'gust_mph': 17.7, 'gust_kph': 28.5}}\", 'score': 0.9778617, 'raw_content': None}, {'url': 'https://weathershogun.com/weather/usa/il/chicago/1328/february/2025-02-12', 'title': 'Wednesday, February 12, 2025. Chicago, IL - Weather Forecast', 'content': \"Wednesday, February 12, 2025. Chicago, IL - Weather Forecast Chicago, IL Home Contact Browse States Privacy Policy Terms and Conditions °F)°C) Today Tomorrow Hourly 7 days 30 days February Chicago, Illinois Weather: Winter Weather Advisory (Potentially hazardous winter weather, such as snow or ice, affecting travel) Wednesday, February 12, 2025 Day 30° Night 14° Precipitation 94 % Wind 19 mph UV Index (0 - 11+) 1 Thursday Hourly Today Tomorrow 7 days 30 days Weather Forecast History Last Year's Weather on This Day (February 12, 2024) Day 46° Night 25° Please note that while we strive for accuracy, the information provided may not always be correct. Use at your own risk. © Copyright by WeatherShogun.com\", 'score': 0.9255605, 'raw_content': None}], 'response_time': 1.31}),\n",
       " AIMessage(content='The current weather in Chicago is as follows:\\n\\n- **Temperature**: -2.8°C (27°F)\\n- **Condition**: Patchy light snow\\n- **Wind**: 13.4 mph (21.6 kph) from the east\\n- **Humidity**: 81%\\n- **Feels Like**: -9.0°C (15.7°F)\\n- **Precipitation**: 3.23 mm\\n- **Visibility**: 2.8 km (1 mile)\\n\\nAdditionally, there is a Winter Weather Advisory in effect, indicating potentially hazardous conditions that may affect travel.\\n\\nFor more detailed information, you can check [WeatherAPI](https://www.weatherapi.com/) or [WeatherShogun](https://weathershogun.com/weather/usa/il/chicago/1328/february/2025-02-12).', additional_kwargs={'refusal': None}, response_metadata={'token_usage': {'completion_tokens': 182, 'prompt_tokens': 734, 'total_tokens': 916, 'completion_tokens_details': {'accepted_prediction_tokens': 0, 'audio_tokens': 0, 'reasoning_tokens': 0, 'rejected_prediction_tokens': 0}, 'prompt_tokens_details': {'audio_tokens': 0, 'cached_tokens': 0}}, 'model_name': 'gpt-4o-mini-2024-07-18', 'system_fingerprint': 'fp_72ed7ab54c', 'finish_reason': 'stop', 'logprobs': None}, id='run-dbb54d82-9859-435e-bc4f-d33aed36627a-0', usage_metadata={'input_tokens': 734, 'output_tokens': 182, 'total_tokens': 916, 'input_token_details': {'audio': 0, 'cache_read': 0}, 'output_token_details': {'audio': 0, 'reasoning': 0}})]"
      ]
     },
     "execution_count": 18,
     "metadata": {},
     "output_type": "execute_result"
    }
   ],
   "source": [
    "response = agent_executor.invoke(\n",
    "    {\"messages\": [HumanMessage(content=\"whats the weather in chicago?\")]}\n",
    ")\n",
    "response[\"messages\"]"
   ]
  },
  {
   "cell_type": "markdown",
   "id": "c174f838",
   "metadata": {},
   "source": [
    "We can check out the [LangSmith trace](https://smith.langchain.com/public/f520839d-cd4d-4495-8764-e32b548e235d/r) to make sure it's calling the search tool effectively."
   ]
  },
  {
   "cell_type": "markdown",
   "id": "8f6ca7e4",
   "metadata": {},
   "source": [
    "## Streaming Messages\n",
    "\n",
    "We've seen how the agent can be called with `.invoke` to get  a final response. If the agent executes multiple steps, this may take a while. To show intermediate progress, we can stream back messages as they occur."
   ]
  },
  {
   "cell_type": "code",
   "execution_count": 19,
   "id": "532d6557",
   "metadata": {},
   "outputs": [
    {
     "name": "stdout",
     "output_type": "stream",
     "text": [
      "{'agent': {'messages': [AIMessage(content='', additional_kwargs={'tool_calls': [{'id': 'call_S6Kv4eMJSKdlNLcEpW87175U', 'function': {'arguments': '{\"query\":\"current weather in Chicago\"}', 'name': 'tavily_search_results_json'}, 'type': 'function'}], 'refusal': None}, response_metadata={'token_usage': {'completion_tokens': 22, 'prompt_tokens': 86, 'total_tokens': 108, 'completion_tokens_details': {'accepted_prediction_tokens': 0, 'audio_tokens': 0, 'reasoning_tokens': 0, 'rejected_prediction_tokens': 0}, 'prompt_tokens_details': {'audio_tokens': 0, 'cached_tokens': 0}}, 'model_name': 'gpt-4o-mini-2024-07-18', 'system_fingerprint': 'fp_bd83329f63', 'finish_reason': 'tool_calls', 'logprobs': None}, id='run-c55dbbbe-3870-4909-8e92-ebdb74d86932-0', tool_calls=[{'name': 'tavily_search_results_json', 'args': {'query': 'current weather in Chicago'}, 'id': 'call_S6Kv4eMJSKdlNLcEpW87175U', 'type': 'tool_call'}], usage_metadata={'input_tokens': 86, 'output_tokens': 22, 'total_tokens': 108, 'input_token_details': {'audio': 0, 'cache_read': 0}, 'output_token_details': {'audio': 0, 'reasoning': 0}})]}}\n",
      "----\n",
      "{'tools': {'messages': [ToolMessage(content='[{\"url\": \"https://www.weatherapi.com/\", \"content\": \"{\\'location\\': {\\'name\\': \\'Chicago\\', \\'region\\': \\'Illinois\\', \\'country\\': \\'United States of America\\', \\'lat\\': 41.85, \\'lon\\': -87.65, \\'tz_id\\': \\'America/Chicago\\', \\'localtime_epoch\\': 1739400636, \\'localtime\\': \\'2025-02-12 16:50\\'}, \\'current\\': {\\'last_updated_epoch\\': 1739400300, \\'last_updated\\': \\'2025-02-12 16:45\\', \\'temp_c\\': -2.8, \\'temp_f\\': 27.0, \\'is_day\\': 1, \\'condition\\': {\\'text\\': \\'Patchy light snow\\', \\'icon\\': \\'//cdn.weatherapi.com/weather/64x64/day/323.png\\', \\'code\\': 1210}, \\'wind_mph\\': 13.4, \\'wind_kph\\': 21.6, \\'wind_degree\\': 82, \\'wind_dir\\': \\'E\\', \\'pressure_mb\\': 1011.0, \\'pressure_in\\': 29.84, \\'precip_mm\\': 3.23, \\'precip_in\\': 0.13, \\'humidity\\': 81, \\'cloud\\': 100, \\'feelslike_c\\': -9.0, \\'feelslike_f\\': 15.7, \\'windchill_c\\': -9.2, \\'windchill_f\\': 15.4, \\'heatindex_c\\': -2.0, \\'heatindex_f\\': 28.4, \\'dewpoint_c\\': -3.0, \\'dewpoint_f\\': 26.5, \\'vis_km\\': 2.8, \\'vis_miles\\': 1.0, \\'uv\\': 0.1, \\'gust_mph\\': 17.7, \\'gust_kph\\': 28.5}}\"}, {\"url\": \"https://weathershogun.com/weather/usa/il/chicago/1328/february/2025-02-12\", \"content\": \"Wednesday, February 12, 2025. Chicago, IL - Weather Forecast Chicago, IL Home Contact Browse States Privacy Policy Terms and Conditions °F)°C) Today Tomorrow Hourly 7 days 30 days February Chicago, Illinois Weather: Winter Weather Advisory (Potentially hazardous winter weather, such as snow or ice, affecting travel) Wednesday, February 12, 2025 Day 30° Night 14° Precipitation 94 % Wind 19 mph UV Index (0 - 11+) 1 Thursday Hourly Today Tomorrow 7 days 30 days Weather Forecast History Last Year\\'s Weather on This Day (February 12, 2024) Day 46° Night 25° Please note that while we strive for accuracy, the information provided may not always be correct. Use at your own risk. © Copyright by WeatherShogun.com\"}]', name='tavily_search_results_json', id='f2ef65e6-def8-45cb-8c9a-9664ab64c773', tool_call_id='call_S6Kv4eMJSKdlNLcEpW87175U', artifact={'query': 'current weather in Chicago', 'follow_up_questions': None, 'answer': None, 'images': [], 'results': [{'title': 'Weather in Chicago', 'url': 'https://www.weatherapi.com/', 'content': \"{'location': {'name': 'Chicago', 'region': 'Illinois', 'country': 'United States of America', 'lat': 41.85, 'lon': -87.65, 'tz_id': 'America/Chicago', 'localtime_epoch': 1739400636, 'localtime': '2025-02-12 16:50'}, 'current': {'last_updated_epoch': 1739400300, 'last_updated': '2025-02-12 16:45', 'temp_c': -2.8, 'temp_f': 27.0, 'is_day': 1, 'condition': {'text': 'Patchy light snow', 'icon': '//cdn.weatherapi.com/weather/64x64/day/323.png', 'code': 1210}, 'wind_mph': 13.4, 'wind_kph': 21.6, 'wind_degree': 82, 'wind_dir': 'E', 'pressure_mb': 1011.0, 'pressure_in': 29.84, 'precip_mm': 3.23, 'precip_in': 0.13, 'humidity': 81, 'cloud': 100, 'feelslike_c': -9.0, 'feelslike_f': 15.7, 'windchill_c': -9.2, 'windchill_f': 15.4, 'heatindex_c': -2.0, 'heatindex_f': 28.4, 'dewpoint_c': -3.0, 'dewpoint_f': 26.5, 'vis_km': 2.8, 'vis_miles': 1.0, 'uv': 0.1, 'gust_mph': 17.7, 'gust_kph': 28.5}}\", 'score': 0.9778617, 'raw_content': None}, {'url': 'https://weathershogun.com/weather/usa/il/chicago/1328/february/2025-02-12', 'title': 'Wednesday, February 12, 2025. Chicago, IL - Weather Forecast', 'content': \"Wednesday, February 12, 2025. Chicago, IL - Weather Forecast Chicago, IL Home Contact Browse States Privacy Policy Terms and Conditions °F)°C) Today Tomorrow Hourly 7 days 30 days February Chicago, Illinois Weather: Winter Weather Advisory (Potentially hazardous winter weather, such as snow or ice, affecting travel) Wednesday, February 12, 2025 Day 30° Night 14° Precipitation 94 % Wind 19 mph UV Index (0 - 11+) 1 Thursday Hourly Today Tomorrow 7 days 30 days Weather Forecast History Last Year's Weather on This Day (February 12, 2024) Day 46° Night 25° Please note that while we strive for accuracy, the information provided may not always be correct. Use at your own risk. © Copyright by WeatherShogun.com\", 'score': 0.9255605, 'raw_content': None}], 'response_time': 0.86})]}}\n",
      "----\n",
      "{'agent': {'messages': [AIMessage(content='The current weather in Chicago is as follows:\\n\\n- **Temperature**: -2.8°C (27.0°F)\\n- **Condition**: Patchy light snow\\n- **Humidity**: 81%\\n- **Wind**: 13.4 mph (21.6 kph) from the East\\n- **Feels Like**: -9.0°C (15.7°F)\\n- **Precipitation**: 3.23 mm (0.13 inches)\\n- **Cloud Cover**: 100%\\n\\nA Winter Weather Advisory is in effect, indicating potentially hazardous winter weather, such as snow or ice, affecting travel. \\n\\nFor more detailed information, you can check the full report [here](https://www.weatherapi.com/).', additional_kwargs={'refusal': None}, response_metadata={'token_usage': {'completion_tokens': 156, 'prompt_tokens': 734, 'total_tokens': 890, 'completion_tokens_details': {'accepted_prediction_tokens': 0, 'audio_tokens': 0, 'reasoning_tokens': 0, 'rejected_prediction_tokens': 0}, 'prompt_tokens_details': {'audio_tokens': 0, 'cached_tokens': 0}}, 'model_name': 'gpt-4o-mini-2024-07-18', 'system_fingerprint': 'fp_72ed7ab54c', 'finish_reason': 'stop', 'logprobs': None}, id='run-40efabba-aad2-436b-968a-0ab51bcb04ba-0', usage_metadata={'input_tokens': 734, 'output_tokens': 156, 'total_tokens': 890, 'input_token_details': {'audio': 0, 'cache_read': 0}, 'output_token_details': {'audio': 0, 'reasoning': 0}})]}}\n",
      "----\n"
     ]
    }
   ],
   "source": [
    "for chunk in agent_executor.stream(\n",
    "    {\"messages\": [HumanMessage(content=\"whats the weather in chicago?\")]}\n",
    "):\n",
    "    print(chunk)\n",
    "    print(\"----\")"
   ]
  },
  {
   "cell_type": "markdown",
   "id": "c72b3043",
   "metadata": {},
   "source": [
    "## Streaming tokens\n",
    "\n",
    "In addition to streaming back messages, it is also useful to stream back tokens.\n",
    "We can do this with the `.astream_events` method.\n",
    "\n",
    ":::important\n",
    "This `.astream_events` method only works with Python 3.11 or higher.\n",
    ":::"
   ]
  },
  {
   "cell_type": "code",
   "execution_count": 24,
   "id": "a3fb262c",
   "metadata": {},
   "outputs": [
    {
     "name": "stdout",
     "output_type": "stream",
     "text": [
      "--\n",
      "Starting tool: tavily_search_results_json with inputs: {'query': 'Chicago weather'}\n",
      "Done tool: tavily_search_results_json\n",
      "Tool output was: content=\"ClientConnectorCertificateError(ConnectionKey(host='api.tavily.com', port=443, is_ssl=True, ssl=True, proxy=None, proxy_auth=None, proxy_headers_hash=None), SSLCertVerificationError(1, '[SSL: CERTIFICATE_VERIFY_FAILED] certificate verify failed: unable to get local issuer certificate (_ssl.c:1018)'))\" name='tavily_search_results_json' tool_call_id='call_DcIJNBWJuJW1vEZ8A0g0WQlf' artifact={}\n",
      "--\n",
      "--\n",
      "Starting tool: tavily_search_results_json with inputs: {'query': 'current weather in Chicago'}\n",
      "Done tool: tavily_search_results_json\n",
      "Tool output was: content=\"ClientConnectorCertificateError(ConnectionKey(host='api.tavily.com', port=443, is_ssl=True, ssl=True, proxy=None, proxy_auth=None, proxy_headers_hash=None), SSLCertVerificationError(1, '[SSL: CERTIFICATE_VERIFY_FAILED] certificate verify failed: unable to get local issuer certificate (_ssl.c:1018)'))\" name='tavily_search_results_json' tool_call_id='call_P1tPEzoo7SlVZqQ9U1SufR7A' artifact={}\n",
      "--\n",
      "I'm| currently| unable| to| retrieve| the| latest| weather| information| for| Chicago|.| You| can| check| a| reliable| weather| website| or| app| for| the| most| accurate| and| up|-to|-date| weather| conditions|.| Would| you| like| assistance| with| anything| else|?|"
     ]
    }
   ],
   "source": [
    "async for event in agent_executor.astream_events(\n",
    "    {\"messages\": [HumanMessage(content=\"whats the weather in chicago?\")]}, version=\"v1\"\n",
    "):\n",
    "    kind = event[\"event\"]\n",
    "    if kind == \"on_chain_start\":\n",
    "        if (\n",
    "            event[\"name\"] == \"Agent\"\n",
    "        ):  # Was assigned when creating the agent with `.with_config({\"run_name\": \"Agent\"})`\n",
    "            print(\n",
    "                f\"Starting agent: {event['name']} with input: {event['data'].get('input')}\"\n",
    "            )\n",
    "    elif kind == \"on_chain_end\":\n",
    "        if (\n",
    "            event[\"name\"] == \"Agent\"\n",
    "        ):  # Was assigned when creating the agent with `.with_config({\"run_name\": \"Agent\"})`\n",
    "            print()\n",
    "            print(\"--\")\n",
    "            print(\n",
    "                f\"Done agent: {event['name']} with output: {event['data'].get('output')['output']}\"\n",
    "            )\n",
    "    if kind == \"on_chat_model_stream\":\n",
    "        content = event[\"data\"][\"chunk\"].content\n",
    "        if content:\n",
    "            # Empty content in the context of OpenAI means\n",
    "            # that the model is asking for a tool to be invoked.\n",
    "            # So we only print non-empty content\n",
    "            print(content, end=\"|\")\n",
    "    elif kind == \"on_tool_start\":\n",
    "        print(\"--\")\n",
    "        print(\n",
    "            f\"Starting tool: {event['name']} with inputs: {event['data'].get('input')}\"\n",
    "        )\n",
    "    elif kind == \"on_tool_end\":\n",
    "        print(f\"Done tool: {event['name']}\")\n",
    "        print(f\"Tool output was: {event['data'].get('output')}\")\n",
    "        print(\"--\")"
   ]
  },
  {
   "cell_type": "markdown",
   "id": "022cbc8a",
   "metadata": {},
   "source": [
    "## Adding in memory\n",
    "\n",
    "As mentioned earlier, this agent is stateless. This means it does not remember previous interactions. To give it memory we need to pass in a checkpointer. When passing in a checkpointer, we also have to pass in a `thread_id` when invoking the agent (so it knows which thread/conversation to resume from)."
   ]
  },
  {
   "cell_type": "code",
   "execution_count": 15,
   "id": "c4073e35",
   "metadata": {},
   "outputs": [],
   "source": [
    "from langgraph.checkpoint.memory import MemorySaver\n",
    "\n",
    "memory = MemorySaver()"
   ]
  },
  {
   "cell_type": "code",
   "execution_count": 16,
   "id": "e64a944e-f9ac-43cf-903c-d3d28d765377",
   "metadata": {},
   "outputs": [],
   "source": [
    "agent_executor = create_react_agent(model, tools, checkpointer=memory)\n",
    "\n",
    "config = {\"configurable\": {\"thread_id\": \"abc123\"}}"
   ]
  },
  {
   "cell_type": "code",
   "execution_count": 17,
   "id": "a13462d0-2d02-4474-921e-15a1ba1fa274",
   "metadata": {},
   "outputs": [
    {
     "name": "stdout",
     "output_type": "stream",
     "text": [
      "{'agent': {'messages': [AIMessage(content='Hello Bob! How can I assist you today?', additional_kwargs={'refusal': None}, response_metadata={'token_usage': {'completion_tokens': 11, 'prompt_tokens': 83, 'total_tokens': 94, 'completion_tokens_details': {'accepted_prediction_tokens': 0, 'audio_tokens': 0, 'reasoning_tokens': 0, 'rejected_prediction_tokens': 0}, 'prompt_tokens_details': {'audio_tokens': 0, 'cached_tokens': 0}}, 'model_name': 'gpt-4o-mini-2024-07-18', 'system_fingerprint': 'fp_0705bf87c0', 'finish_reason': 'stop', 'logprobs': None}, id='run-60d4f805-9d3e-44c2-a473-c42ed1c930f9-0', usage_metadata={'input_tokens': 83, 'output_tokens': 11, 'total_tokens': 94, 'input_token_details': {'audio': 0, 'cache_read': 0}, 'output_token_details': {'audio': 0, 'reasoning': 0}})]}}\n",
      "----\n"
     ]
    }
   ],
   "source": [
    "for chunk in agent_executor.stream(\n",
    "    {\"messages\": [HumanMessage(content=\"hi im bob!\")]}, config\n",
    "):\n",
    "    print(chunk)\n",
    "    print(\"----\")"
   ]
  },
  {
   "cell_type": "code",
   "execution_count": 18,
   "id": "56d8028b-5dbc-40b2-86f5-ed60631d86a3",
   "metadata": {},
   "outputs": [
    {
     "name": "stdout",
     "output_type": "stream",
     "text": [
      "{'agent': {'messages': [AIMessage(content='Your name is Bob! How can I help you today?', additional_kwargs={'refusal': None}, response_metadata={'token_usage': {'completion_tokens': 13, 'prompt_tokens': 106, 'total_tokens': 119, 'completion_tokens_details': {'accepted_prediction_tokens': 0, 'audio_tokens': 0, 'reasoning_tokens': 0, 'rejected_prediction_tokens': 0}, 'prompt_tokens_details': {'audio_tokens': 0, 'cached_tokens': 0}}, 'model_name': 'gpt-4o-mini-2024-07-18', 'system_fingerprint': 'fp_0705bf87c0', 'finish_reason': 'stop', 'logprobs': None}, id='run-01e4c48b-8fd0-4a19-b463-4b2d07e91a50-0', usage_metadata={'input_tokens': 106, 'output_tokens': 13, 'total_tokens': 119, 'input_token_details': {'audio': 0, 'cache_read': 0}, 'output_token_details': {'audio': 0, 'reasoning': 0}})]}}\n",
      "----\n"
     ]
    }
   ],
   "source": [
    "for chunk in agent_executor.stream(\n",
    "    {\"messages\": [HumanMessage(content=\"whats my name?\")]}, config\n",
    "):\n",
    "    print(chunk)\n",
    "    print(\"----\")"
   ]
  },
  {
   "cell_type": "markdown",
   "id": "bda99754-0a11-4447-b408-e8db8f2e3517",
   "metadata": {},
   "source": [
    "Example [LangSmith trace](https://smith.langchain.com/public/fa73960b-0f7d-4910-b73d-757a12f33b2b/r)"
   ]
  },
  {
   "cell_type": "markdown",
   "id": "ae908088",
   "metadata": {},
   "source": [
    "If you want to start a new conversation, all you have to do is change the `thread_id` used"
   ]
  },
  {
   "cell_type": "code",
   "execution_count": 19,
   "id": "24460239",
   "metadata": {},
   "outputs": [
    {
     "name": "stdout",
     "output_type": "stream",
     "text": [
      "{'agent': {'messages': [AIMessage(content=\"I don't have access to personal data about individuals unless it has been shared with me in the course of our conversation. Therefore, I don't know your name. If you'd like to share it, feel free!\", additional_kwargs={'refusal': None}, response_metadata={'token_usage': {'completion_tokens': 42, 'prompt_tokens': 84, 'total_tokens': 126, 'completion_tokens_details': {'accepted_prediction_tokens': 0, 'audio_tokens': 0, 'reasoning_tokens': 0, 'rejected_prediction_tokens': 0}, 'prompt_tokens_details': {'audio_tokens': 0, 'cached_tokens': 0}}, 'model_name': 'gpt-4o-mini-2024-07-18', 'system_fingerprint': 'fp_0705bf87c0', 'finish_reason': 'stop', 'logprobs': None}, id='run-ea6ffc74-a724-44b7-8b61-02bc8081dc1a-0', usage_metadata={'input_tokens': 84, 'output_tokens': 42, 'total_tokens': 126, 'input_token_details': {'audio': 0, 'cache_read': 0}, 'output_token_details': {'audio': 0, 'reasoning': 0}})]}}\n",
      "----\n"
     ]
    }
   ],
   "source": [
    "config = {\"configurable\": {\"thread_id\": \"xyz123\"}}\n",
    "for chunk in agent_executor.stream(\n",
    "    {\"messages\": [HumanMessage(content=\"whats my name?\")]}, config\n",
    "):\n",
    "    print(chunk)\n",
    "    print(\"----\")"
   ]
  },
  {
   "cell_type": "markdown",
   "id": "c029798f",
   "metadata": {},
   "source": [
    "## Conclusion\n",
    "\n",
    "That's a wrap! In this quick start we covered how to create a simple agent. \n",
    "We've then shown how to stream back a response - not only with the intermediate steps, but also tokens!\n",
    "We've also added in memory so you can have a conversation with them.\n",
    "Agents are a complex topic with lots to learn! \n",
    "\n",
    "For more information on Agents, please check out the [LangGraph](/docs/concepts/architecture/#langgraph) documentation. This has it's own set of concepts, tutorials, and how-to guides."
   ]
  },
  {
   "cell_type": "code",
   "execution_count": null,
   "id": "e3ec3244",
   "metadata": {},
   "outputs": [],
   "source": []
  }
 ],
 "metadata": {
  "kernelspec": {
   "display_name": "Python 3",
   "language": "python",
   "name": "python3"
  },
  "language_info": {
   "codemirror_mode": {
    "name": "ipython",
    "version": 3
   },
   "file_extension": ".py",
   "mimetype": "text/x-python",
   "name": "python",
   "nbconvert_exporter": "python",
   "pygments_lexer": "ipython3",
   "version": "3.13.1"
  }
 },
 "nbformat": 4,
 "nbformat_minor": 5
}
